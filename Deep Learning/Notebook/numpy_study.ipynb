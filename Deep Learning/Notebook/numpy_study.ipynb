{
  "nbformat": 4,
  "nbformat_minor": 0,
  "metadata": {
    "colab": {
      "name": "numpy_study.ipynb",
      "provenance": [],
      "collapsed_sections": []
    },
    "kernelspec": {
      "name": "python3",
      "display_name": "Python 3"
    },
    "language_info": {
      "name": "python"
    }
  },
  "cells": [
    {
      "cell_type": "code",
      "execution_count": null,
      "metadata": {
        "colab": {
          "base_uri": "https://localhost:8080/"
        },
        "id": "8JIW_flFn-tL",
        "outputId": "85f58fea-780d-4fc5-e6ed-ebae9414b056"
      },
      "outputs": [
        {
          "output_type": "stream",
          "name": "stdout",
          "text": [
            "[1 2 3]\n",
            "[[1 2]\n",
            " [3 4]]\n",
            "[[1 2 3 4 5]]\n",
            "<class 'numpy.int64'>\n",
            "[1.+0.j 2.+0.j 3.+0.j]\n",
            "<class 'numpy.complex128'>\n",
            "<class 'numpy.ndarray'>\n"
          ]
        }
      ],
      "source": [
        "# English version of \n",
        "import numpy as np\n",
        "# Ndarry object\n",
        "# numpy.array(object, dtype = None, copy = True, order = None, subok = False, ndmin = 0)\n",
        "\n",
        "## 1-dimension\n",
        "a = np.array([1,2,3]) \n",
        "print(a)\n",
        "\n",
        "## 2-dimension\n",
        "b = np.array([[1, 2], [3, 4]]) \n",
        "print(b)\n",
        "\n",
        "## set min dimension\n",
        "c = np.array([1, 2, 3, 4, 5], ndmin = 2) \n",
        "print(c)\n",
        "print(type(c[0][1]))\n",
        "\n",
        "## set type of array\n",
        "d = np.array([1, 2, 3], dtype = complex) \n",
        "print(d) \n",
        "print(type(d[1]))\n",
        "print(type(d))"
      ]
    },
    {
      "cell_type": "code",
      "source": [
        "# data type\n",
        "# numpy.dtype(object, align, copy)\n",
        "import numpy as np\n",
        "dt1 = np.dtype(np.int32)\n",
        "print(dt1)\n",
        "\n",
        "dt2 = np.dtype('i4')\n",
        "print(dt2)\n",
        "\n",
        "dt3 = np.dtype('<i4')\n",
        "print(dt3)\n",
        "\n",
        "\n",
        "dt = np.dtype([('age', np.int8),('gender', np.bool_)])\n",
        "a = np.array([(10),(20, False),(30)], dtype = dt)\n",
        "print(a['age'])\n",
        "print(a['gender'])\n",
        "print(a)\n",
        "\n",
        "student = np.dtype([('name', 'S20'), ('age', 'i1'), ('marks', 'f4')])\n",
        "print(student)\n",
        "a = np.array([('abc', 21, 50), ('xyz', 18, 75)])\n",
        "print(a)\n",
        "print(a[0])\n",
        "print(type(a[0]))\n",
        "print(a[0][0])\n",
        "print(type(a[0][0]))"
      ],
      "metadata": {
        "colab": {
          "base_uri": "https://localhost:8080/"
        },
        "id": "O8NLvkxGpxNo",
        "outputId": "f81df006-841e-46ab-e644-bb7c83970941"
      },
      "execution_count": null,
      "outputs": [
        {
          "output_type": "stream",
          "name": "stdout",
          "text": [
            "int32\n",
            "int32\n",
            "int32\n",
            "[10 20 30]\n",
            "[ True False  True]\n",
            "[(10,  True) (20, False) (30,  True)]\n",
            "[('name', 'S20'), ('age', 'i1'), ('marks', '<f4')]\n",
            "[['abc' '21' '50']\n",
            " ['xyz' '18' '75']]\n",
            "['abc' '21' '50']\n",
            "<class 'numpy.ndarray'>\n",
            "abc\n",
            "<class 'numpy.str_'>\n"
          ]
        }
      ]
    },
    {
      "cell_type": "code",
      "source": [
        "# array attributes\n",
        "import numpy as np\n",
        "\n",
        "## ndim\n",
        "a = np.arange(24)\n",
        "print(a.ndim)\n",
        "print(a)\n",
        "## reshape\n",
        "b = a.reshape(2,4,3)\n",
        "print(b)\n",
        "print(b.ndim)\n",
        "## shape\n",
        "c = np.array(([1, 2, 3], [4, 5, 6]))\n",
        "print(c.shape)\n",
        "c.shape = (3, 2)\n",
        "c.shape = (3, -1)\n",
        "c.shape = (3, 1, 2, 1)\n",
        "print(c)\n",
        "## itemsize()\n",
        "x = np.array([1, 2, 3, 4, 5], dtype=np.float64)\n",
        "print(x.itemsize)\n",
        "y = np.array([1, 2, 3, 4, 5], dtype=np.int8)\n",
        "print(y.itemsize)\n",
        "## flags\n",
        "z = np.array([1, 2, 3, 4, 5])\n",
        "print(z.flags)"
      ],
      "metadata": {
        "colab": {
          "base_uri": "https://localhost:8080/"
        },
        "id": "UThO8QnGuUAw",
        "outputId": "5f97e72b-61e5-4be0-cd7f-d769e75d9b4f"
      },
      "execution_count": null,
      "outputs": [
        {
          "output_type": "stream",
          "name": "stdout",
          "text": [
            "1\n",
            "[ 0  1  2  3  4  5  6  7  8  9 10 11 12 13 14 15 16 17 18 19 20 21 22 23]\n",
            "[[[ 0  1  2]\n",
            "  [ 3  4  5]\n",
            "  [ 6  7  8]\n",
            "  [ 9 10 11]]\n",
            "\n",
            " [[12 13 14]\n",
            "  [15 16 17]\n",
            "  [18 19 20]\n",
            "  [21 22 23]]]\n",
            "3\n",
            "(2, 3)\n",
            "[[[[1]\n",
            "   [2]]]\n",
            "\n",
            "\n",
            " [[[3]\n",
            "   [4]]]\n",
            "\n",
            "\n",
            " [[[5]\n",
            "   [6]]]]\n",
            "8\n",
            "1\n",
            "  C_CONTIGUOUS : True\n",
            "  F_CONTIGUOUS : True\n",
            "  OWNDATA : True\n",
            "  WRITEABLE : True\n",
            "  ALIGNED : True\n",
            "  WRITEBACKIFCOPY : False\n",
            "  UPDATEIFCOPY : False\n",
            "\n"
          ]
        }
      ]
    },
    {
      "cell_type": "code",
      "source": [
        "# create array\n",
        "\n",
        "## numpy.empty(shape, dtype=float, order='C')\n",
        "import numpy as np\n",
        "x1 = np.empty([3, 2], dtype = np.int8)\n",
        "print(x1)\n",
        "\n",
        "## numpy.zeros(shape, dtype=float, order='C')\n",
        "x2 = np.zeros(5)\n",
        "print(x2)\n",
        "x3 = np.zeros((5,), dtype = np.int8)\n",
        "print(x3)\n",
        "x4 = np.zeros((2, 2), dtype = [('x', 'i4'), ('y', 'i4')])\n",
        "print(x4)\n",
        "\n",
        "## numpy.ones(shape, dtype=float, order='C')\n",
        "x5 = np.ones(5)\n",
        "print(x5)\n",
        "x6 = np.ones([2, 2], dtype =int)\n",
        "print(x6)"
      ],
      "metadata": {
        "colab": {
          "base_uri": "https://localhost:8080/"
        },
        "id": "x1wjnzoWxRL-",
        "outputId": "647995f4-803a-441d-80ea-a1ecd89b6263"
      },
      "execution_count": null,
      "outputs": [
        {
          "output_type": "stream",
          "name": "stdout",
          "text": [
            "[[10  0]\n",
            " [20  1]\n",
            " [30  1]]\n",
            "[0. 0. 0. 0. 0.]\n",
            "[0 0 0 0 0]\n",
            "[[(0, 0) (0, 0)]\n",
            " [(0, 0) (0, 0)]]\n",
            "[1. 1. 1. 1. 1.]\n",
            "[[1 1]\n",
            " [1 1]]\n"
          ]
        }
      ]
    },
    {
      "cell_type": "code",
      "source": [
        "# create array from existing list\n",
        "# numpy.asarray(a, dtype=None, order=None)\n",
        "import numpy as np\n",
        "a1 = [1, 2, 3]\n",
        "a2 = np.asarray(a1)\n",
        "print(a1)\n",
        "print(type(a1))\n",
        "print(a2)\n",
        "print(type(a2))\n",
        "a3 = (1, 2, 3)\n",
        "a3 = np.asarray(a3)\n",
        "print(type(a3))\n",
        "a4 = np.asarray(a1, dtype=float)\n",
        "print(a4)"
      ],
      "metadata": {
        "colab": {
          "base_uri": "https://localhost:8080/"
        },
        "id": "awzoHZtFzyId",
        "outputId": "7114a37e-2673-42ed-c2ae-44dc18733e72"
      },
      "execution_count": null,
      "outputs": [
        {
          "output_type": "stream",
          "name": "stdout",
          "text": [
            "[1, 2, 3]\n",
            "<class 'list'>\n",
            "[1 2 3]\n",
            "<class 'numpy.ndarray'>\n",
            "<class 'tuple'>\n",
            "[1. 2. 3.]\n"
          ]
        }
      ]
    },
    {
      "cell_type": "code",
      "source": [
        "# create array from value range\n",
        "# numpy.arange(start, stop, step, dtype)\n",
        "import numpy as np\n",
        "b1 = np.arange(5)\n",
        "print(b1)\n",
        "b2 = np.arange(5, dtype=float)\n",
        "print(b2)\n",
        "b3 = np.arange(10, 20 ,2)\n",
        "print(b3)\n",
        "\n",
        "# numpy.linespace(start, stop, num=50, endpoint=True, retstep=False, dtype=None)\n",
        "b4 = np.linspace(1, 10, 10)\n",
        "print(b4)\n",
        "b5 = np.linspace(1, 1, 10)\n",
        "print(b5)\n",
        "b6 = np.linspace(10, 20, 5, endpoint = False)\n",
        "print(b6)\n",
        "\n",
        "# numpy.logspace(start, stop, num=50, endpoint=True, base=10.0, dtype=None)\n",
        "b7 = np.logspace(0, 9, 10, base=2)\n",
        "print(b7)\n",
        "b8 = np.logspace(1.0, 2.0, num=10)\n",
        "print(b8)"
      ],
      "metadata": {
        "colab": {
          "base_uri": "https://localhost:8080/"
        },
        "id": "NJdTvldb22JI",
        "outputId": "c285a722-12cb-4f62-b65f-82da3d5e345f"
      },
      "execution_count": null,
      "outputs": [
        {
          "output_type": "stream",
          "name": "stdout",
          "text": [
            "[0 1 2 3 4]\n",
            "[0. 1. 2. 3. 4.]\n",
            "[10 12 14 16 18]\n",
            "[ 1.  2.  3.  4.  5.  6.  7.  8.  9. 10.]\n",
            "[1. 1. 1. 1. 1. 1. 1. 1. 1. 1.]\n",
            "[10. 12. 14. 16. 18.]\n",
            "[  1.   2.   4.   8.  16.  32.  64. 128. 256. 512.]\n",
            "[ 10.          12.91549665  16.68100537  21.5443469   27.82559402\n",
            "  35.93813664  46.41588834  59.94842503  77.42636827 100.        ]\n"
          ]
        }
      ]
    },
    {
      "cell_type": "code",
      "source": [
        "# slice and index\n",
        "import numpy as np\n",
        "c1 = np.arange(10)\n",
        "s1 = slice(2, 7, 2)\n",
        "print(c1[s1])\n",
        "print(c1[2:7:2])\n",
        "print(c1[2])\n",
        "print(c1[2:5])\n",
        "print(c1[1:])\n",
        "\n",
        "c2 = np.array([[1, 2, 3], [4, 5, 6], [7, 8, 9]])\n",
        "print(c2[...,1])\n",
        "print(c2[1,...])\n",
        "print(c2[...,1:])\n",
        "\n",
        "c2 = np.array([[1, 2], [3, 4], [5, 6]])\n",
        "c3 = c2[[0, 1, 2], [0, 1, 0]] # position: (0,0) (1,1) (2,0)\n",
        "print(c3)\n",
        "print(c1[c1 > 5])\n",
        "c4 = np.array([np.nan, 1, 2, np.nan, 3, 4, 5])\n",
        "print(c4[~np.isnan(c4)])\n",
        "c5 = np.array([1, 2+6j, 5, 3.5+5j])\n",
        "print(c5[np.iscomplex(c5)])"
      ],
      "metadata": {
        "colab": {
          "base_uri": "https://localhost:8080/"
        },
        "id": "y9ym4XTx5Svt",
        "outputId": "5b36de5a-6f7a-4ea8-85c8-3632097094a1"
      },
      "execution_count": null,
      "outputs": [
        {
          "output_type": "stream",
          "name": "stdout",
          "text": [
            "[2 4 6]\n",
            "[2 4 6]\n",
            "2\n",
            "[2 3 4]\n",
            "[1 2 3 4 5 6 7 8 9]\n",
            "[2 5 8]\n",
            "[4 5 6]\n",
            "[[2 3]\n",
            " [5 6]\n",
            " [8 9]]\n",
            "[1 4 5]\n",
            "[6 7 8 9]\n",
            "[1. 2. 3. 4. 5.]\n",
            "[2. +6.j 3.5+5.j]\n"
          ]
        }
      ]
    },
    {
      "cell_type": "code",
      "source": [
        "# broadcast\n",
        "import numpy as np\n",
        "d1 = np.array([1, 2, 3, 4])\n",
        "d2 = np.array([10, 20, 30, 40])\n",
        "print(d1*d2)\n",
        "\n",
        "d3 = np.array([1, 2, 3])\n",
        "d4 = np.array([[0, 0, 0],\n",
        "         [10, 10, 10],\n",
        "         [20, 20, 20],\n",
        "         [30, 30, 30]])\n",
        "print(d3+d4)\n",
        "print(np.tile(d3, (4, 1))+d4)"
      ],
      "metadata": {
        "colab": {
          "base_uri": "https://localhost:8080/"
        },
        "id": "gFY5-Z--6eSU",
        "outputId": "7a5bad12-1878-4285-e291-d2392a66f68c"
      },
      "execution_count": null,
      "outputs": [
        {
          "output_type": "stream",
          "name": "stdout",
          "text": [
            "[ 10  40  90 160]\n",
            "[[ 1  2  3]\n",
            " [11 12 13]\n",
            " [21 22 23]\n",
            " [31 32 33]]\n",
            "[[ 1  2  3]\n",
            " [11 12 13]\n",
            " [21 22 23]\n",
            " [31 32 33]]\n"
          ]
        }
      ]
    },
    {
      "cell_type": "code",
      "source": [
        "# calculation function\n",
        "import numpy as np\n",
        "e1 = np.arange(9, dtype=np.float_).reshape(3,3)\n",
        "e2 = np.array([10, 10, 10])\n",
        "## add\n",
        "print(np.add(e1, e2))\n",
        "## subtract\n",
        "print(np.subtract(e1, e2))\n",
        "## multiply\n",
        "print(np.multiply(e1, e2))\n",
        "## divide\n",
        "print(np.divide(e1,e2))\n",
        "## reciprocal\n",
        "print(np.reciprocal(e1))\n",
        "## power\n",
        "print(np.power(e1, 2))\n",
        "print(np.power(e1, e2))\n",
        "## mod\n",
        "print(np.mod(e1, e2))\n",
        "## reminder\n",
        "print(np.remainder(e1, e2))"
      ],
      "metadata": {
        "colab": {
          "base_uri": "https://localhost:8080/"
        },
        "id": "aefFqQAeCfcA",
        "outputId": "ed4ff5e8-c408-4821-9a96-ef246154425b"
      },
      "execution_count": null,
      "outputs": [
        {
          "output_type": "stream",
          "name": "stdout",
          "text": [
            "[[10. 11. 12.]\n",
            " [13. 14. 15.]\n",
            " [16. 17. 18.]]\n",
            "[[-10.  -9.  -8.]\n",
            " [ -7.  -6.  -5.]\n",
            " [ -4.  -3.  -2.]]\n",
            "[[ 0. 10. 20.]\n",
            " [30. 40. 50.]\n",
            " [60. 70. 80.]]\n",
            "[[0.  0.1 0.2]\n",
            " [0.3 0.4 0.5]\n",
            " [0.6 0.7 0.8]]\n",
            "[[       inf 1.         0.5       ]\n",
            " [0.33333333 0.25       0.2       ]\n",
            " [0.16666667 0.14285714 0.125     ]]\n",
            "[[ 0.  1.  4.]\n",
            " [ 9. 16. 25.]\n",
            " [36. 49. 64.]]\n",
            "[[0.00000000e+00 1.00000000e+00 1.02400000e+03]\n",
            " [5.90490000e+04 1.04857600e+06 9.76562500e+06]\n",
            " [6.04661760e+07 2.82475249e+08 1.07374182e+09]]\n",
            "[[0. 1. 2.]\n",
            " [3. 4. 5.]\n",
            " [6. 7. 8.]]\n",
            "[[0. 1. 2.]\n",
            " [3. 4. 5.]\n",
            " [6. 7. 8.]]\n"
          ]
        },
        {
          "output_type": "stream",
          "name": "stderr",
          "text": [
            "/usr/local/lib/python3.7/dist-packages/ipykernel_launcher.py:14: RuntimeWarning: divide by zero encountered in reciprocal\n",
            "  \n"
          ]
        }
      ]
    },
    {
      "cell_type": "code",
      "source": [
        "# statistics function\n",
        "import numpy as np\n",
        "f1 = np.array([[3, 7, 5], [8, 4, 3], [2, 4, 9]])\n",
        "# min max\n",
        "print(np.amin(f1,1))\n",
        "print(np.amin(f1,0))\n",
        "print(np.amax(f1))\n",
        "print(np.amax(f1, axis=0))\n",
        "# max - min\n",
        "print(np.ptp(f1))\n",
        "print(np.ptp(f1,1))\n",
        "# median"
      ],
      "metadata": {
        "colab": {
          "base_uri": "https://localhost:8080/"
        },
        "id": "zh_NVJGcER_l",
        "outputId": "e715b086-e6b6-4ae0-9e1a-877bfa4a960a"
      },
      "execution_count": null,
      "outputs": [
        {
          "output_type": "stream",
          "name": "stdout",
          "text": [
            "[3 3 2]\n",
            "[2 4 3]\n",
            "9\n",
            "[8 7 9]\n",
            "7\n",
            "[4 5 7]\n"
          ]
        }
      ]
    }
  ]
}