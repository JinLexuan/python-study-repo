{
  "nbformat": 4,
  "nbformat_minor": 0,
  "metadata": {
    "colab": {
      "name": "tensor&grad.ipynb",
      "provenance": [],
      "collapsed_sections": []
    },
    "kernelspec": {
      "name": "python3",
      "display_name": "Python 3"
    },
    "language_info": {
      "name": "python"
    },
    "accelerator": "GPU"
  },
  "cells": [
    {
      "cell_type": "code",
      "execution_count": null,
      "metadata": {
        "colab": {
          "base_uri": "https://localhost:8080/"
        },
        "id": "GnI6FTeMKKi1",
        "outputId": "9e39d156-593a-4ecc-fbee-13ad15c315be"
      },
      "outputs": [
        {
          "output_type": "stream",
          "name": "stdout",
          "text": [
            "tensor([[6.7021e-15, 3.0674e-41, 3.3631e-44, 0.0000e+00,        nan],\n",
            "        [3.0674e-41, 1.1578e+27, 1.1362e+30, 7.1547e+22, 4.5828e+30],\n",
            "        [1.2121e+04, 7.1846e+22, 9.2198e-39, 7.0374e+22, 1.4285e-15]])\n"
          ]
        }
      ],
      "source": [
        "import torch\n",
        "from __future__ import print_function\n",
        "x1 = torch.empty(3,5)\n",
        "print(x1)"
      ]
    },
    {
      "cell_type": "code",
      "source": [
        "x2 = torch.rand(3,5)\n",
        "print(x2)"
      ],
      "metadata": {
        "colab": {
          "base_uri": "https://localhost:8080/"
        },
        "id": "tVT_JA1hKrNj",
        "outputId": "9b513348-e3a7-4f71-aeb3-b6047aff2870"
      },
      "execution_count": null,
      "outputs": [
        {
          "output_type": "stream",
          "name": "stdout",
          "text": [
            "tensor([[0.1540, 0.4491, 0.9872, 0.9586, 0.4138],\n",
            "        [0.9657, 0.2809, 0.0041, 0.1951, 0.5701],\n",
            "        [0.1725, 0.2277, 0.7001, 0.1830, 0.1592]])\n"
          ]
        }
      ]
    },
    {
      "cell_type": "code",
      "source": [
        "x3 = torch.zeros(5, 3, dtype=torch.long)\n",
        "print(x3)"
      ],
      "metadata": {
        "colab": {
          "base_uri": "https://localhost:8080/"
        },
        "id": "Bi82QR3oK_fs",
        "outputId": "a8dc6f90-74d6-4332-b6dd-0540451740df"
      },
      "execution_count": null,
      "outputs": [
        {
          "output_type": "stream",
          "name": "stdout",
          "text": [
            "tensor([[0, 0, 0],\n",
            "        [0, 0, 0],\n",
            "        [0, 0, 0],\n",
            "        [0, 0, 0],\n",
            "        [0, 0, 0]])\n"
          ]
        }
      ]
    },
    {
      "cell_type": "code",
      "source": [
        "x4 = torch.tensor([5.5, 2, 4])\n",
        "print(x4)\n",
        "print(x3.size()[1])\n",
        "print(x4.size())"
      ],
      "metadata": {
        "colab": {
          "base_uri": "https://localhost:8080/"
        },
        "id": "tM6SlBEoLQah",
        "outputId": "1ea6997a-e163-49da-d356-699ba06db968"
      },
      "execution_count": null,
      "outputs": [
        {
          "output_type": "stream",
          "name": "stdout",
          "text": [
            "tensor([5.5000, 2.0000, 4.0000])\n",
            "3\n",
            "torch.Size([3])\n"
          ]
        }
      ]
    },
    {
      "cell_type": "code",
      "source": [
        "x5 = torch.rand(3,5)\n",
        "print(x5)\n",
        "print(x2+x5)\n",
        "print(torch.add(x2,x5))\n",
        "print(x2.add_(x5))\n",
        "print(x2)"
      ],
      "metadata": {
        "colab": {
          "base_uri": "https://localhost:8080/"
        },
        "id": "JTZBenGbLe7b",
        "outputId": "7ce8bf28-b44b-43c6-c08b-07ee0614ac57"
      },
      "execution_count": null,
      "outputs": [
        {
          "output_type": "stream",
          "name": "stdout",
          "text": [
            "tensor([[0.7071, 0.9743, 0.6411, 0.8200, 0.6905],\n",
            "        [0.0250, 0.7285, 0.1571, 0.2349, 0.2318],\n",
            "        [0.2448, 0.6999, 0.4718, 0.4293, 0.4372]])\n",
            "tensor([[0.8612, 1.4234, 1.6283, 1.7786, 1.1042],\n",
            "        [0.9907, 1.0094, 0.1611, 0.4300, 0.8019],\n",
            "        [0.4173, 0.9276, 1.1719, 0.6124, 0.5964]])\n",
            "tensor([[0.8612, 1.4234, 1.6283, 1.7786, 1.1042],\n",
            "        [0.9907, 1.0094, 0.1611, 0.4300, 0.8019],\n",
            "        [0.4173, 0.9276, 1.1719, 0.6124, 0.5964]])\n",
            "tensor([[0.8612, 1.4234, 1.6283, 1.7786, 1.1042],\n",
            "        [0.9907, 1.0094, 0.1611, 0.4300, 0.8019],\n",
            "        [0.4173, 0.9276, 1.1719, 0.6124, 0.5964]])\n",
            "tensor([[0.8612, 1.4234, 1.6283, 1.7786, 1.1042],\n",
            "        [0.9907, 1.0094, 0.1611, 0.4300, 0.8019],\n",
            "        [0.4173, 0.9276, 1.1719, 0.6124, 0.5964]])\n"
          ]
        }
      ]
    },
    {
      "cell_type": "code",
      "source": [
        "x = torch.randn(4, 4)\n",
        "y = x.view(1, 16)\n",
        "z = x.view(-1, 8)\n",
        "print(x)\n",
        "print(y)\n",
        "print(z)"
      ],
      "metadata": {
        "colab": {
          "base_uri": "https://localhost:8080/"
        },
        "id": "4I9GrBxCMWXl",
        "outputId": "8e0661e1-7d19-4639-8d5f-6ca121a7b4d9"
      },
      "execution_count": null,
      "outputs": [
        {
          "output_type": "stream",
          "name": "stdout",
          "text": [
            "tensor([[-0.4494, -0.1511,  1.4316,  0.7217],\n",
            "        [ 0.2014, -0.4539,  1.3184, -0.6097],\n",
            "        [ 0.3903, -1.4452,  0.0817,  0.6180],\n",
            "        [ 0.1492, -0.2159, -1.6099,  0.4989]])\n",
            "tensor([[-0.4494, -0.1511,  1.4316,  0.7217,  0.2014, -0.4539,  1.3184, -0.6097,\n",
            "          0.3903, -1.4452,  0.0817,  0.6180,  0.1492, -0.2159, -1.6099,  0.4989]])\n",
            "tensor([[-0.4494, -0.1511,  1.4316,  0.7217,  0.2014, -0.4539,  1.3184, -0.6097],\n",
            "        [ 0.3903, -1.4452,  0.0817,  0.6180,  0.1492, -0.2159, -1.6099,  0.4989]])\n"
          ]
        }
      ]
    },
    {
      "cell_type": "code",
      "source": [
        "print(torch.cuda.is_available())\n",
        "x = torch.randn(1)\n",
        "if torch.cuda.is_available():\n",
        "    device = torch.device('cuda')\n",
        "    y = torch.ones_like(x, device=device)\n",
        "    x = x.to(device)\n",
        "    z = x + y\n",
        "    print(z)\n",
        "    print(z.to('cpu', dtype=torch.double))"
      ],
      "metadata": {
        "colab": {
          "base_uri": "https://localhost:8080/"
        },
        "id": "tZc5LR1UMziQ",
        "outputId": "537c46cf-6c3b-4e60-a127-9dd28cd0fd3d"
      },
      "execution_count": null,
      "outputs": [
        {
          "output_type": "stream",
          "name": "stdout",
          "text": [
            "True\n",
            "tensor([0.9900], device='cuda:0')\n",
            "tensor([0.9900], dtype=torch.float64)\n"
          ]
        }
      ]
    },
    {
      "cell_type": "code",
      "source": [
        "x = torch.ones(2, 2, requires_grad=True)\n",
        "print(x)\n",
        "y = x + 2\n",
        "print(y)\n",
        "print(y.grad_fn)\n",
        "\n",
        "z = y * y * 3\n",
        "out = z.mean()\n",
        "print(out.grad_fn)\n",
        "print(z, out)"
      ],
      "metadata": {
        "colab": {
          "base_uri": "https://localhost:8080/"
        },
        "id": "PDo1ocOOPPM9",
        "outputId": "eff290a0-6d60-47e9-d284-059a29d29033"
      },
      "execution_count": null,
      "outputs": [
        {
          "output_type": "stream",
          "name": "stdout",
          "text": [
            "tensor([[1., 1.],\n",
            "        [1., 1.]], requires_grad=True)\n",
            "tensor([[3., 3.],\n",
            "        [3., 3.]], grad_fn=<AddBackward0>)\n",
            "<AddBackward0 object at 0x7f88cbc1f8d0>\n",
            "<MeanBackward0 object at 0x7f89c8e2b6d0>\n",
            "tensor([[27., 27.],\n",
            "        [27., 27.]], grad_fn=<MulBackward0>) tensor(27., grad_fn=<MeanBackward0>)\n"
          ]
        }
      ]
    },
    {
      "cell_type": "code",
      "source": [
        "a = torch.randn(2,2)\n",
        "a = (a * 3)/(a - 1)\n",
        "print(a.requires_grad)\n",
        "a.requires_grad_(True)\n",
        "print(a.requires_grad)\n",
        "b = (a*a).sum()\n",
        "print(b.grad_fn)"
      ],
      "metadata": {
        "colab": {
          "base_uri": "https://localhost:8080/"
        },
        "id": "ATaxzC8rP74D",
        "outputId": "8be57c84-afc9-4710-9240-b31acab132e1"
      },
      "execution_count": null,
      "outputs": [
        {
          "output_type": "stream",
          "name": "stdout",
          "text": [
            "False\n",
            "True\n",
            "<SumBackward0 object at 0x7faa73d09c10>\n"
          ]
        }
      ]
    },
    {
      "cell_type": "code",
      "source": [
        "out.backward()\n",
        "print(x.grad)"
      ],
      "metadata": {
        "colab": {
          "base_uri": "https://localhost:8080/"
        },
        "id": "zrtHT7oBQjFb",
        "outputId": "4ff0652b-21e0-4f4b-d37f-cd4202f7373e"
      },
      "execution_count": null,
      "outputs": [
        {
          "output_type": "stream",
          "name": "stdout",
          "text": [
            "tensor([[4.5000, 4.5000],\n",
            "        [4.5000, 4.5000]])\n"
          ]
        }
      ]
    },
    {
      "cell_type": "code",
      "source": [
        "a1 = torch.randn(3, requires_grad=True)\n",
        "a2 = a1 * 2\n",
        "while a2.data.norm() < 1000:\n",
        "    a2 *= 2\n",
        "print(a2)\n",
        "\n",
        "v = torch.tensor([0.1, 1.0, 0.0001], dtype=torch.float)\n",
        "a2.backward(v)\n",
        "print(a1.grad)"
      ],
      "metadata": {
        "colab": {
          "base_uri": "https://localhost:8080/"
        },
        "id": "gNF-7eecI_hp",
        "outputId": "df9f69c1-4206-4dad-e850-504bb0453a88"
      },
      "execution_count": null,
      "outputs": [
        {
          "output_type": "stream",
          "name": "stdout",
          "text": [
            "tensor([ -352.5476, -1245.2047,   459.7001], grad_fn=<MulBackward0>)\n",
            "tensor([5.1200e+01, 5.1200e+02, 5.1200e-02])\n"
          ]
        }
      ]
    },
    {
      "cell_type": "code",
      "source": [
        "print(x.requires_grad)\n",
        "print((x**2).requires_grad)\n",
        "\n",
        "with torch.no_grad():\n",
        "    print((x ** 2).requires_grad)"
      ],
      "metadata": {
        "colab": {
          "base_uri": "https://localhost:8080/"
        },
        "id": "BAyfgdk9PSrE",
        "outputId": "a37eff4f-0def-4622-f297-dd56f14027ac"
      },
      "execution_count": null,
      "outputs": [
        {
          "output_type": "stream",
          "name": "stdout",
          "text": [
            "True\n",
            "True\n",
            "False\n"
          ]
        }
      ]
    }
  ]
}